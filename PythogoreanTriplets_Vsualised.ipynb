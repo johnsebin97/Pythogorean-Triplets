{
 "cells": [
  {
   "cell_type": "code",
   "execution_count": 12,
   "metadata": {},
   "outputs": [
    {
     "name": "stdout",
     "output_type": "stream",
     "text": [
      "Enter num100\n",
      "3 4 5\n",
      "6 8 10\n",
      "5 12 13\n",
      "9 12 15\n",
      "8 15 17\n",
      "12 16 20\n",
      "15 20 25\n",
      "20 21 29\n",
      "7 24 25\n",
      "10 24 26\n",
      "18 24 30\n",
      "21 28 35\n",
      "16 30 34\n",
      "24 32 40\n",
      "12 35 37\n",
      "15 36 39\n",
      "27 36 45\n",
      "9 40 41\n",
      "30 40 50\n",
      "40 42 58\n",
      "33 44 55\n",
      "24 45 51\n",
      "28 45 53\n",
      "14 48 50\n",
      "20 48 52\n",
      "36 48 60\n",
      "39 52 65\n",
      "48 55 73\n",
      "33 56 65\n",
      "42 56 70\n",
      "11 60 61\n",
      "25 60 65\n",
      "32 60 68\n",
      "45 60 75\n",
      "16 63 65\n",
      "60 63 87\n",
      "48 64 80\n",
      "51 68 85\n",
      "24 70 74\n",
      "21 72 75\n",
      "30 72 78\n",
      "54 72 90\n",
      "65 72 97\n",
      "40 75 85\n",
      "57 76 95\n",
      "36 77 85\n",
      "18 80 82\n",
      "39 80 89\n",
      "60 80 100\n",
      "13 84 85\n",
      "35 84 91\n",
      "63 84 105\n",
      "80 84 116\n",
      "66 88 110\n",
      "48 90 102\n",
      "56 90 106\n",
      "60 91 109\n",
      "69 92 115\n",
      "28 96 100\n",
      "40 96 104\n",
      "72 96 120\n",
      "20 99 101\n"
     ]
    }
   ],
   "source": [
    "import math\n",
    "import pandas as pd\n",
    "\n",
    "n = int(input(\"Enter num\"))\n",
    "\n",
    "A = []\n",
    "B = []\n",
    "C = []\n",
    "\n",
    "for b in range(n):\n",
    "    for a in range(1, b):\n",
    "        c = math.sqrt( a * a + b * b)\n",
    "        if c % 1 == 0:\n",
    "            print(a, b, int(c))\n",
    "            A.append(a)\n",
    "            B.append(b)\n",
    "            C.append(c)\n",
    "final1 = pd.DataFrame(\n",
    "{'a': A,\n",
    " 'b': B,\n",
    " 'c': C\n",
    "})"
   ]
  },
  {
   "cell_type": "code",
   "execution_count": 13,
   "metadata": {},
   "outputs": [
    {
     "data": {
      "text/html": [
       "<div>\n",
       "<style scoped>\n",
       "    .dataframe tbody tr th:only-of-type {\n",
       "        vertical-align: middle;\n",
       "    }\n",
       "\n",
       "    .dataframe tbody tr th {\n",
       "        vertical-align: top;\n",
       "    }\n",
       "\n",
       "    .dataframe thead th {\n",
       "        text-align: right;\n",
       "    }\n",
       "</style>\n",
       "<table border=\"1\" class=\"dataframe\">\n",
       "  <thead>\n",
       "    <tr style=\"text-align: right;\">\n",
       "      <th></th>\n",
       "      <th>a</th>\n",
       "      <th>b</th>\n",
       "      <th>c</th>\n",
       "    </tr>\n",
       "  </thead>\n",
       "  <tbody>\n",
       "    <tr>\n",
       "      <th>0</th>\n",
       "      <td>3</td>\n",
       "      <td>4</td>\n",
       "      <td>5.0</td>\n",
       "    </tr>\n",
       "    <tr>\n",
       "      <th>1</th>\n",
       "      <td>6</td>\n",
       "      <td>8</td>\n",
       "      <td>10.0</td>\n",
       "    </tr>\n",
       "    <tr>\n",
       "      <th>2</th>\n",
       "      <td>5</td>\n",
       "      <td>12</td>\n",
       "      <td>13.0</td>\n",
       "    </tr>\n",
       "    <tr>\n",
       "      <th>3</th>\n",
       "      <td>9</td>\n",
       "      <td>12</td>\n",
       "      <td>15.0</td>\n",
       "    </tr>\n",
       "    <tr>\n",
       "      <th>4</th>\n",
       "      <td>8</td>\n",
       "      <td>15</td>\n",
       "      <td>17.0</td>\n",
       "    </tr>\n",
       "    <tr>\n",
       "      <th>...</th>\n",
       "      <td>...</td>\n",
       "      <td>...</td>\n",
       "      <td>...</td>\n",
       "    </tr>\n",
       "    <tr>\n",
       "      <th>57</th>\n",
       "      <td>69</td>\n",
       "      <td>92</td>\n",
       "      <td>115.0</td>\n",
       "    </tr>\n",
       "    <tr>\n",
       "      <th>58</th>\n",
       "      <td>28</td>\n",
       "      <td>96</td>\n",
       "      <td>100.0</td>\n",
       "    </tr>\n",
       "    <tr>\n",
       "      <th>59</th>\n",
       "      <td>40</td>\n",
       "      <td>96</td>\n",
       "      <td>104.0</td>\n",
       "    </tr>\n",
       "    <tr>\n",
       "      <th>60</th>\n",
       "      <td>72</td>\n",
       "      <td>96</td>\n",
       "      <td>120.0</td>\n",
       "    </tr>\n",
       "    <tr>\n",
       "      <th>61</th>\n",
       "      <td>20</td>\n",
       "      <td>99</td>\n",
       "      <td>101.0</td>\n",
       "    </tr>\n",
       "  </tbody>\n",
       "</table>\n",
       "<p>62 rows × 3 columns</p>\n",
       "</div>"
      ],
      "text/plain": [
       "     a   b      c\n",
       "0    3   4    5.0\n",
       "1    6   8   10.0\n",
       "2    5  12   13.0\n",
       "3    9  12   15.0\n",
       "4    8  15   17.0\n",
       "..  ..  ..    ...\n",
       "57  69  92  115.0\n",
       "58  28  96  100.0\n",
       "59  40  96  104.0\n",
       "60  72  96  120.0\n",
       "61  20  99  101.0\n",
       "\n",
       "[62 rows x 3 columns]"
      ]
     },
     "execution_count": 13,
     "metadata": {},
     "output_type": "execute_result"
    }
   ],
   "source": [
    "final1"
   ]
  },
  {
   "cell_type": "code",
   "execution_count": 14,
   "metadata": {},
   "outputs": [],
   "source": [
    "x = final1['a'].values.tolist()\n",
    "y = final1['b'].values.tolist()\n",
    "z = final1['c'].values.tolist()"
   ]
  },
  {
   "cell_type": "code",
   "execution_count": 15,
   "metadata": {},
   "outputs": [
    {
     "name": "stdout",
     "output_type": "stream",
     "text": [
      "62 3\n"
     ]
    }
   ],
   "source": [
    "r, w = final1.shape\n",
    "print(r,w)\n",
    "x1 = []\n",
    "for a in range(r):\n",
    "    x1.append(a)"
   ]
  },
  {
   "cell_type": "code",
   "execution_count": 16,
   "metadata": {},
   "outputs": [
    {
     "data": {
      "image/png": "[encoded data removed]",
      "text/plain": [
       "<Figure size 432x288 with 1 Axes>"
      ]
     },
     "metadata": {
      "needs_background": "light"
     },
     "output_type": "display_data"
    }
   ],
   "source": [
    "import matplotlib.pyplot as plt\n",
    "fig, ax = plt.subplots()\n",
    "\n",
    "\n",
    "ax.plot(x1,x)\n",
    "ax.plot(x1,y)\n",
    "ax.plot(x1,z)\n",
    "\n",
    "\n",
    "ax.set_title('Pythagorean triplets visualized')\n",
    "ax.legend(['Side 1','hypotenuse','Side 2'])\n",
    "ax.xaxis.set_label_text('Sets')\n",
    "ax.yaxis.set_label_text('Length of side')\n",
    "\n",
    "\n",
    "plt.show()"
   ]
  },
  {
   "cell_type": "code",
   "execution_count": null,
   "metadata": {},
   "outputs": [],
   "source": []
  }
 ],
 "metadata": {
  "kernelspec": {
   "display_name": "Python 3",
   "language": "python",
   "name": "python3"
  },
  "language_info": {
   "codemirror_mode": {
    "name": "ipython",
    "version": 3
   },
   "file_extension": ".py",
   "mimetype": "text/x-python",
   "name": "python",
   "nbconvert_exporter": "python",
   "pygments_lexer": "ipython3",
   "version": "3.8.6"
  }
 },
 "nbformat": 4,
 "nbformat_minor": 4
}
